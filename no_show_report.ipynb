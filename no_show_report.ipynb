{
 "cells": [
  {
   "cell_type": "markdown",
   "metadata": {},
   "source": [
    "# Project: Investigate a Dataset (No-Show Medical Appointments in Brazil)\n",
    "\n",
    "## Table of Contents\n",
    "<ul>\n",
    "<li><a href=\"#intro\">Introduction</a></li>\n",
    "<li><a href=\"#wrangling\">Data Wrangling</a></li>\n",
    "<li><a href=\"#eda\">Exploratory Data Analysis</a></li>\n",
    "<li><a href=\"#conclusions\">Conclusions</a></li>\n",
    "</ul>"
   ]
  },
  {
   "cell_type": "markdown",
   "metadata": {},
   "source": [
    "<a id='intro'></a>\n",
    "## Introduction\n",
    "\n",
    ">This report will look at how various health and timing related variables affect the probability of patients missing medical appointments in Brazil. The data set provides information on several health conditions as well as basic patient information such as gender and age.  Further, there is some timing data included in the data set such as when an appointment was scheduled and the day of the appointment, as well as whether or not a text message reminder was received or not. I would like to see if there is a correlation between the gap between the scheduled day/appointment day and the likelihood of missing the appointment. The question is: which, if any, of these factors indicate whether or not a patient will show up for an appointment?"
   ]
  },
  {
   "cell_type": "code",
   "execution_count": 1,
   "metadata": {},
   "outputs": [],
   "source": [
    "#import packages\n",
    "import pandas as pd\n",
    "import numpy as np\n",
    "import matplotlib.pyplot as plt\n",
    "import time\n",
    "% matplotlib inline"
   ]
  },
  {
   "cell_type": "markdown",
   "metadata": {},
   "source": [
    "<a id='wrangling'></a>\n",
    "## Data Wrangling\n",
    "\n",
    "> Check for missing entries, duplicates, and outliers in the data.\n",
    "\n",
    "### General Properties"
   ]
  },
  {
   "cell_type": "code",
   "execution_count": 2,
   "metadata": {
    "scrolled": true
   },
   "outputs": [
    {
     "data": {
      "text/html": [
       "<div>\n",
       "<style scoped>\n",
       "    .dataframe tbody tr th:only-of-type {\n",
       "        vertical-align: middle;\n",
       "    }\n",
       "\n",
       "    .dataframe tbody tr th {\n",
       "        vertical-align: top;\n",
       "    }\n",
       "\n",
       "    .dataframe thead th {\n",
       "        text-align: right;\n",
       "    }\n",
       "</style>\n",
       "<table border=\"1\" class=\"dataframe\">\n",
       "  <thead>\n",
       "    <tr style=\"text-align: right;\">\n",
       "      <th></th>\n",
       "      <th>PatientId</th>\n",
       "      <th>AppointmentID</th>\n",
       "      <th>Gender</th>\n",
       "      <th>ScheduledDay</th>\n",
       "      <th>AppointmentDay</th>\n",
       "      <th>Age</th>\n",
       "      <th>Neighbourhood</th>\n",
       "      <th>Scholarship</th>\n",
       "      <th>Hipertension</th>\n",
       "      <th>Diabetes</th>\n",
       "      <th>Alcoholism</th>\n",
       "      <th>Handcap</th>\n",
       "      <th>SMS_received</th>\n",
       "      <th>No-show</th>\n",
       "    </tr>\n",
       "  </thead>\n",
       "  <tbody>\n",
       "    <tr>\n",
       "      <th>0</th>\n",
       "      <td>2.987250e+13</td>\n",
       "      <td>5642903</td>\n",
       "      <td>F</td>\n",
       "      <td>2016-04-29T18:38:08Z</td>\n",
       "      <td>2016-04-29T00:00:00Z</td>\n",
       "      <td>62</td>\n",
       "      <td>JARDIM DA PENHA</td>\n",
       "      <td>0</td>\n",
       "      <td>1</td>\n",
       "      <td>0</td>\n",
       "      <td>0</td>\n",
       "      <td>0</td>\n",
       "      <td>0</td>\n",
       "      <td>No</td>\n",
       "    </tr>\n",
       "    <tr>\n",
       "      <th>1</th>\n",
       "      <td>5.589978e+14</td>\n",
       "      <td>5642503</td>\n",
       "      <td>M</td>\n",
       "      <td>2016-04-29T16:08:27Z</td>\n",
       "      <td>2016-04-29T00:00:00Z</td>\n",
       "      <td>56</td>\n",
       "      <td>JARDIM DA PENHA</td>\n",
       "      <td>0</td>\n",
       "      <td>0</td>\n",
       "      <td>0</td>\n",
       "      <td>0</td>\n",
       "      <td>0</td>\n",
       "      <td>0</td>\n",
       "      <td>No</td>\n",
       "    </tr>\n",
       "    <tr>\n",
       "      <th>2</th>\n",
       "      <td>4.262962e+12</td>\n",
       "      <td>5642549</td>\n",
       "      <td>F</td>\n",
       "      <td>2016-04-29T16:19:04Z</td>\n",
       "      <td>2016-04-29T00:00:00Z</td>\n",
       "      <td>62</td>\n",
       "      <td>MATA DA PRAIA</td>\n",
       "      <td>0</td>\n",
       "      <td>0</td>\n",
       "      <td>0</td>\n",
       "      <td>0</td>\n",
       "      <td>0</td>\n",
       "      <td>0</td>\n",
       "      <td>No</td>\n",
       "    </tr>\n",
       "    <tr>\n",
       "      <th>3</th>\n",
       "      <td>8.679512e+11</td>\n",
       "      <td>5642828</td>\n",
       "      <td>F</td>\n",
       "      <td>2016-04-29T17:29:31Z</td>\n",
       "      <td>2016-04-29T00:00:00Z</td>\n",
       "      <td>8</td>\n",
       "      <td>PONTAL DE CAMBURI</td>\n",
       "      <td>0</td>\n",
       "      <td>0</td>\n",
       "      <td>0</td>\n",
       "      <td>0</td>\n",
       "      <td>0</td>\n",
       "      <td>0</td>\n",
       "      <td>No</td>\n",
       "    </tr>\n",
       "    <tr>\n",
       "      <th>4</th>\n",
       "      <td>8.841186e+12</td>\n",
       "      <td>5642494</td>\n",
       "      <td>F</td>\n",
       "      <td>2016-04-29T16:07:23Z</td>\n",
       "      <td>2016-04-29T00:00:00Z</td>\n",
       "      <td>56</td>\n",
       "      <td>JARDIM DA PENHA</td>\n",
       "      <td>0</td>\n",
       "      <td>1</td>\n",
       "      <td>1</td>\n",
       "      <td>0</td>\n",
       "      <td>0</td>\n",
       "      <td>0</td>\n",
       "      <td>No</td>\n",
       "    </tr>\n",
       "  </tbody>\n",
       "</table>\n",
       "</div>"
      ],
      "text/plain": [
       "      PatientId  AppointmentID Gender          ScheduledDay  \\\n",
       "0  2.987250e+13        5642903      F  2016-04-29T18:38:08Z   \n",
       "1  5.589978e+14        5642503      M  2016-04-29T16:08:27Z   \n",
       "2  4.262962e+12        5642549      F  2016-04-29T16:19:04Z   \n",
       "3  8.679512e+11        5642828      F  2016-04-29T17:29:31Z   \n",
       "4  8.841186e+12        5642494      F  2016-04-29T16:07:23Z   \n",
       "\n",
       "         AppointmentDay  Age      Neighbourhood  Scholarship  Hipertension  \\\n",
       "0  2016-04-29T00:00:00Z   62    JARDIM DA PENHA            0             1   \n",
       "1  2016-04-29T00:00:00Z   56    JARDIM DA PENHA            0             0   \n",
       "2  2016-04-29T00:00:00Z   62      MATA DA PRAIA            0             0   \n",
       "3  2016-04-29T00:00:00Z    8  PONTAL DE CAMBURI            0             0   \n",
       "4  2016-04-29T00:00:00Z   56    JARDIM DA PENHA            0             1   \n",
       "\n",
       "   Diabetes  Alcoholism  Handcap  SMS_received No-show  \n",
       "0         0           0        0             0      No  \n",
       "1         0           0        0             0      No  \n",
       "2         0           0        0             0      No  \n",
       "3         0           0        0             0      No  \n",
       "4         1           0        0             0      No  "
      ]
     },
     "execution_count": 2,
     "metadata": {},
     "output_type": "execute_result"
    }
   ],
   "source": [
    "df = pd.read_csv('KaggleV2-May-2016.csv')\n",
    "df.head()"
   ]
  },
  {
   "cell_type": "markdown",
   "metadata": {},
   "source": [
    ">Drop irrelevant columns:"
   ]
  },
  {
   "cell_type": "code",
   "execution_count": 3,
   "metadata": {
    "scrolled": false
   },
   "outputs": [
    {
     "data": {
      "text/html": [
       "<div>\n",
       "<style scoped>\n",
       "    .dataframe tbody tr th:only-of-type {\n",
       "        vertical-align: middle;\n",
       "    }\n",
       "\n",
       "    .dataframe tbody tr th {\n",
       "        vertical-align: top;\n",
       "    }\n",
       "\n",
       "    .dataframe thead th {\n",
       "        text-align: right;\n",
       "    }\n",
       "</style>\n",
       "<table border=\"1\" class=\"dataframe\">\n",
       "  <thead>\n",
       "    <tr style=\"text-align: right;\">\n",
       "      <th></th>\n",
       "      <th>Gender</th>\n",
       "      <th>ScheduledDay</th>\n",
       "      <th>AppointmentDay</th>\n",
       "      <th>Age</th>\n",
       "      <th>Scholarship</th>\n",
       "      <th>Hipertension</th>\n",
       "      <th>Diabetes</th>\n",
       "      <th>Alcoholism</th>\n",
       "      <th>Handcap</th>\n",
       "      <th>SMS_received</th>\n",
       "      <th>No-show</th>\n",
       "    </tr>\n",
       "  </thead>\n",
       "  <tbody>\n",
       "    <tr>\n",
       "      <th>0</th>\n",
       "      <td>F</td>\n",
       "      <td>2016-04-29T18:38:08Z</td>\n",
       "      <td>2016-04-29T00:00:00Z</td>\n",
       "      <td>62</td>\n",
       "      <td>0</td>\n",
       "      <td>1</td>\n",
       "      <td>0</td>\n",
       "      <td>0</td>\n",
       "      <td>0</td>\n",
       "      <td>0</td>\n",
       "      <td>No</td>\n",
       "    </tr>\n",
       "    <tr>\n",
       "      <th>1</th>\n",
       "      <td>M</td>\n",
       "      <td>2016-04-29T16:08:27Z</td>\n",
       "      <td>2016-04-29T00:00:00Z</td>\n",
       "      <td>56</td>\n",
       "      <td>0</td>\n",
       "      <td>0</td>\n",
       "      <td>0</td>\n",
       "      <td>0</td>\n",
       "      <td>0</td>\n",
       "      <td>0</td>\n",
       "      <td>No</td>\n",
       "    </tr>\n",
       "    <tr>\n",
       "      <th>2</th>\n",
       "      <td>F</td>\n",
       "      <td>2016-04-29T16:19:04Z</td>\n",
       "      <td>2016-04-29T00:00:00Z</td>\n",
       "      <td>62</td>\n",
       "      <td>0</td>\n",
       "      <td>0</td>\n",
       "      <td>0</td>\n",
       "      <td>0</td>\n",
       "      <td>0</td>\n",
       "      <td>0</td>\n",
       "      <td>No</td>\n",
       "    </tr>\n",
       "    <tr>\n",
       "      <th>3</th>\n",
       "      <td>F</td>\n",
       "      <td>2016-04-29T17:29:31Z</td>\n",
       "      <td>2016-04-29T00:00:00Z</td>\n",
       "      <td>8</td>\n",
       "      <td>0</td>\n",
       "      <td>0</td>\n",
       "      <td>0</td>\n",
       "      <td>0</td>\n",
       "      <td>0</td>\n",
       "      <td>0</td>\n",
       "      <td>No</td>\n",
       "    </tr>\n",
       "    <tr>\n",
       "      <th>4</th>\n",
       "      <td>F</td>\n",
       "      <td>2016-04-29T16:07:23Z</td>\n",
       "      <td>2016-04-29T00:00:00Z</td>\n",
       "      <td>56</td>\n",
       "      <td>0</td>\n",
       "      <td>1</td>\n",
       "      <td>1</td>\n",
       "      <td>0</td>\n",
       "      <td>0</td>\n",
       "      <td>0</td>\n",
       "      <td>No</td>\n",
       "    </tr>\n",
       "  </tbody>\n",
       "</table>\n",
       "</div>"
      ],
      "text/plain": [
       "  Gender          ScheduledDay        AppointmentDay  Age  Scholarship  \\\n",
       "0      F  2016-04-29T18:38:08Z  2016-04-29T00:00:00Z   62            0   \n",
       "1      M  2016-04-29T16:08:27Z  2016-04-29T00:00:00Z   56            0   \n",
       "2      F  2016-04-29T16:19:04Z  2016-04-29T00:00:00Z   62            0   \n",
       "3      F  2016-04-29T17:29:31Z  2016-04-29T00:00:00Z    8            0   \n",
       "4      F  2016-04-29T16:07:23Z  2016-04-29T00:00:00Z   56            0   \n",
       "\n",
       "   Hipertension  Diabetes  Alcoholism  Handcap  SMS_received No-show  \n",
       "0             1         0           0        0             0      No  \n",
       "1             0         0           0        0             0      No  \n",
       "2             0         0           0        0             0      No  \n",
       "3             0         0           0        0             0      No  \n",
       "4             1         1           0        0             0      No  "
      ]
     },
     "execution_count": 3,
     "metadata": {},
     "output_type": "execute_result"
    }
   ],
   "source": [
    "df.drop(['AppointmentID','PatientId','Neighbourhood'], axis = 1, inplace = True)\n",
    "df.head()"
   ]
  },
  {
   "cell_type": "markdown",
   "metadata": {},
   "source": [
    ">Clean column titles and fix typos:"
   ]
  },
  {
   "cell_type": "code",
   "execution_count": 4,
   "metadata": {},
   "outputs": [
    {
     "data": {
      "text/html": [
       "<div>\n",
       "<style scoped>\n",
       "    .dataframe tbody tr th:only-of-type {\n",
       "        vertical-align: middle;\n",
       "    }\n",
       "\n",
       "    .dataframe tbody tr th {\n",
       "        vertical-align: top;\n",
       "    }\n",
       "\n",
       "    .dataframe thead th {\n",
       "        text-align: right;\n",
       "    }\n",
       "</style>\n",
       "<table border=\"1\" class=\"dataframe\">\n",
       "  <thead>\n",
       "    <tr style=\"text-align: right;\">\n",
       "      <th></th>\n",
       "      <th>gender</th>\n",
       "      <th>scheduled_day</th>\n",
       "      <th>appointment_day</th>\n",
       "      <th>age</th>\n",
       "      <th>scholarship</th>\n",
       "      <th>hypertension</th>\n",
       "      <th>diabetes</th>\n",
       "      <th>alcoholism</th>\n",
       "      <th>handicap</th>\n",
       "      <th>sms_received</th>\n",
       "      <th>no_show</th>\n",
       "    </tr>\n",
       "  </thead>\n",
       "  <tbody>\n",
       "    <tr>\n",
       "      <th>0</th>\n",
       "      <td>F</td>\n",
       "      <td>2016-04-29T18:38:08Z</td>\n",
       "      <td>2016-04-29T00:00:00Z</td>\n",
       "      <td>62</td>\n",
       "      <td>0</td>\n",
       "      <td>1</td>\n",
       "      <td>0</td>\n",
       "      <td>0</td>\n",
       "      <td>0</td>\n",
       "      <td>0</td>\n",
       "      <td>No</td>\n",
       "    </tr>\n",
       "    <tr>\n",
       "      <th>1</th>\n",
       "      <td>M</td>\n",
       "      <td>2016-04-29T16:08:27Z</td>\n",
       "      <td>2016-04-29T00:00:00Z</td>\n",
       "      <td>56</td>\n",
       "      <td>0</td>\n",
       "      <td>0</td>\n",
       "      <td>0</td>\n",
       "      <td>0</td>\n",
       "      <td>0</td>\n",
       "      <td>0</td>\n",
       "      <td>No</td>\n",
       "    </tr>\n",
       "    <tr>\n",
       "      <th>2</th>\n",
       "      <td>F</td>\n",
       "      <td>2016-04-29T16:19:04Z</td>\n",
       "      <td>2016-04-29T00:00:00Z</td>\n",
       "      <td>62</td>\n",
       "      <td>0</td>\n",
       "      <td>0</td>\n",
       "      <td>0</td>\n",
       "      <td>0</td>\n",
       "      <td>0</td>\n",
       "      <td>0</td>\n",
       "      <td>No</td>\n",
       "    </tr>\n",
       "    <tr>\n",
       "      <th>3</th>\n",
       "      <td>F</td>\n",
       "      <td>2016-04-29T17:29:31Z</td>\n",
       "      <td>2016-04-29T00:00:00Z</td>\n",
       "      <td>8</td>\n",
       "      <td>0</td>\n",
       "      <td>0</td>\n",
       "      <td>0</td>\n",
       "      <td>0</td>\n",
       "      <td>0</td>\n",
       "      <td>0</td>\n",
       "      <td>No</td>\n",
       "    </tr>\n",
       "    <tr>\n",
       "      <th>4</th>\n",
       "      <td>F</td>\n",
       "      <td>2016-04-29T16:07:23Z</td>\n",
       "      <td>2016-04-29T00:00:00Z</td>\n",
       "      <td>56</td>\n",
       "      <td>0</td>\n",
       "      <td>1</td>\n",
       "      <td>1</td>\n",
       "      <td>0</td>\n",
       "      <td>0</td>\n",
       "      <td>0</td>\n",
       "      <td>No</td>\n",
       "    </tr>\n",
       "  </tbody>\n",
       "</table>\n",
       "</div>"
      ],
      "text/plain": [
       "  gender         scheduled_day       appointment_day  age  scholarship  \\\n",
       "0      F  2016-04-29T18:38:08Z  2016-04-29T00:00:00Z   62            0   \n",
       "1      M  2016-04-29T16:08:27Z  2016-04-29T00:00:00Z   56            0   \n",
       "2      F  2016-04-29T16:19:04Z  2016-04-29T00:00:00Z   62            0   \n",
       "3      F  2016-04-29T17:29:31Z  2016-04-29T00:00:00Z    8            0   \n",
       "4      F  2016-04-29T16:07:23Z  2016-04-29T00:00:00Z   56            0   \n",
       "\n",
       "   hypertension  diabetes  alcoholism  handicap  sms_received no_show  \n",
       "0             1         0           0         0             0      No  \n",
       "1             0         0           0         0             0      No  \n",
       "2             0         0           0         0             0      No  \n",
       "3             0         0           0         0             0      No  \n",
       "4             1         1           0         0             0      No  "
      ]
     },
     "execution_count": 4,
     "metadata": {},
     "output_type": "execute_result"
    }
   ],
   "source": [
    "df.rename(columns = { 'Gender':'gender', 'ScheduledDay':'scheduled_day', 'AppointmentDay':'appointment_day', 'Age':'age','Scholarship':'scholarship','Hipertension':'hypertension','Diabetes':'diabetes','Alcoholism':'alcoholism','Handcap':'handicap','SMS_received':'sms_received', 'No-show':'no_show'}, inplace=True)\n",
    "df.head()"
   ]
  },
  {
   "cell_type": "markdown",
   "metadata": {},
   "source": [
    "> Check for missing entries:"
   ]
  },
  {
   "cell_type": "code",
   "execution_count": 5,
   "metadata": {
    "scrolled": false
   },
   "outputs": [
    {
     "name": "stdout",
     "output_type": "stream",
     "text": [
      "<class 'pandas.core.frame.DataFrame'>\n",
      "RangeIndex: 110527 entries, 0 to 110526\n",
      "Data columns (total 11 columns):\n",
      "gender             110527 non-null object\n",
      "scheduled_day      110527 non-null object\n",
      "appointment_day    110527 non-null object\n",
      "age                110527 non-null int64\n",
      "scholarship        110527 non-null int64\n",
      "hypertension       110527 non-null int64\n",
      "diabetes           110527 non-null int64\n",
      "alcoholism         110527 non-null int64\n",
      "handicap           110527 non-null int64\n",
      "sms_received       110527 non-null int64\n",
      "no_show            110527 non-null object\n",
      "dtypes: int64(7), object(4)\n",
      "memory usage: 9.3+ MB\n"
     ]
    }
   ],
   "source": [
    "df.info()"
   ]
  },
  {
   "cell_type": "markdown",
   "metadata": {},
   "source": [
    ">Nothing appears to be missing and the data types are okay for now."
   ]
  },
  {
   "cell_type": "markdown",
   "metadata": {},
   "source": [
    ">Check for and remove duplicate rows:"
   ]
  },
  {
   "cell_type": "code",
   "execution_count": 6,
   "metadata": {},
   "outputs": [
    {
     "data": {
      "text/plain": [
       "722"
      ]
     },
     "execution_count": 6,
     "metadata": {},
     "output_type": "execute_result"
    }
   ],
   "source": [
    "df.duplicated().sum()"
   ]
  },
  {
   "cell_type": "code",
   "execution_count": 7,
   "metadata": {},
   "outputs": [
    {
     "data": {
      "text/plain": [
       "0"
      ]
     },
     "execution_count": 7,
     "metadata": {},
     "output_type": "execute_result"
    }
   ],
   "source": [
    "df.drop_duplicates(inplace = True)\n",
    "df.duplicated().sum()"
   ]
  },
  {
   "cell_type": "markdown",
   "metadata": {},
   "source": [
    ">Check for outliers:"
   ]
  },
  {
   "cell_type": "code",
   "execution_count": 8,
   "metadata": {
    "scrolled": false
   },
   "outputs": [
    {
     "name": "stdout",
     "output_type": "stream",
     "text": [
      "['F' 'M']\n",
      "['2016-04-29T18:38:08Z' '2016-04-29T16:08:27Z' '2016-04-29T16:19:04Z' ...\n",
      " '2016-04-27T16:03:52Z' '2016-04-27T15:09:23Z' '2016-04-27T13:30:56Z']\n",
      "['2016-04-29T00:00:00Z' '2016-05-03T00:00:00Z' '2016-05-10T00:00:00Z'\n",
      " '2016-05-17T00:00:00Z' '2016-05-24T00:00:00Z' '2016-05-31T00:00:00Z'\n",
      " '2016-05-02T00:00:00Z' '2016-05-30T00:00:00Z' '2016-05-16T00:00:00Z'\n",
      " '2016-05-04T00:00:00Z' '2016-05-19T00:00:00Z' '2016-05-12T00:00:00Z'\n",
      " '2016-05-06T00:00:00Z' '2016-05-20T00:00:00Z' '2016-05-05T00:00:00Z'\n",
      " '2016-05-13T00:00:00Z' '2016-05-09T00:00:00Z' '2016-05-25T00:00:00Z'\n",
      " '2016-05-11T00:00:00Z' '2016-05-18T00:00:00Z' '2016-05-14T00:00:00Z'\n",
      " '2016-06-02T00:00:00Z' '2016-06-03T00:00:00Z' '2016-06-06T00:00:00Z'\n",
      " '2016-06-07T00:00:00Z' '2016-06-01T00:00:00Z' '2016-06-08T00:00:00Z']\n",
      "[ 62  56   8  76  23  39  21  19  30  29  22  28  54  15  50  40  46   4\n",
      "  13  65  45  51  32  12  61  38  79  18  63  64  85  59  55  71  49  78\n",
      "  31  58  27   6   2  11   7   0   3   1  69  68  60  67  36  10  35  20\n",
      "  26  34  33  16  42   5  47  17  41  44  37  24  66  77  81  70  53  75\n",
      "  73  52  74  43  89  57  14   9  48  83  72  25  80  87  88  84  82  90\n",
      "  94  86  91  98  92  96  93  95  97 102 115 100  99  -1]\n",
      "[0 1]\n",
      "[1 0]\n",
      "[0 1]\n",
      "[0 1]\n",
      "[0 1 2 3 4]\n",
      "[0 1]\n",
      "['No' 'Yes']\n"
     ]
    }
   ],
   "source": [
    "for x in df.columns:\n",
    "    print(df[x].unique())"
   ]
  },
  {
   "cell_type": "markdown",
   "metadata": {},
   "source": [
    ">Age has outliers of 115 and -1. Check value counts, 115 may be an outlier and -1 may be a piece of corrupt data"
   ]
  },
  {
   "cell_type": "code",
   "execution_count": 9,
   "metadata": {
    "scrolled": false
   },
   "outputs": [
    {
     "data": {
      "text/plain": [
       " 0      3529\n",
       " 1      2271\n",
       " 52     1738\n",
       " 49     1645\n",
       " 53     1641\n",
       " 38     1624\n",
       " 56     1623\n",
       " 2      1614\n",
       " 59     1612\n",
       " 50     1600\n",
       " 57     1597\n",
       " 36     1567\n",
       " 51     1561\n",
       " 19     1533\n",
       " 39     1525\n",
       " 54     1522\n",
       " 33     1516\n",
       " 37     1516\n",
       " 34     1516\n",
       " 6      1511\n",
       " 3      1509\n",
       " 30     1505\n",
       " 32     1488\n",
       " 17     1482\n",
       " 5      1482\n",
       " 44     1474\n",
       " 18     1471\n",
       " 58     1458\n",
       " 46     1451\n",
       " 45     1450\n",
       "        ... \n",
       " 74      601\n",
       " 76      570\n",
       " 78      541\n",
       " 75      540\n",
       " 77      525\n",
       " 80      509\n",
       " 81      430\n",
       " 82      391\n",
       " 79      389\n",
       " 84      310\n",
       " 83      278\n",
       " 85      274\n",
       " 86      256\n",
       " 87      184\n",
       " 89      172\n",
       " 88      125\n",
       " 90      109\n",
       " 92       84\n",
       " 91       66\n",
       " 93       53\n",
       " 94       33\n",
       " 95       24\n",
       " 96       17\n",
       " 97       11\n",
       " 98        6\n",
       " 115       4\n",
       " 100       3\n",
       " 102       2\n",
       " 99        1\n",
       "-1         1\n",
       "Name: age, Length: 104, dtype: int64"
      ]
     },
     "execution_count": 9,
     "metadata": {},
     "output_type": "execute_result"
    }
   ],
   "source": [
    "df['age'].value_counts()"
   ]
  },
  {
   "cell_type": "markdown",
   "metadata": {},
   "source": [
    ">There is only one entry with a negative age and 4 over the age of 102. It is likely okay to remove these rows as they will not affect the analysis in a substantial way."
   ]
  },
  {
   "cell_type": "code",
   "execution_count": 10,
   "metadata": {},
   "outputs": [],
   "source": [
    "#https://chrisalbon.com/python/data_wrangling/pandas_dropping_column_and_rows/\n",
    "\n",
    "df = df[df.age >= 0]\n",
    "df = df[df.age <= 102]"
   ]
  },
  {
   "cell_type": "markdown",
   "metadata": {},
   "source": [
    ">Check data again:"
   ]
  },
  {
   "cell_type": "code",
   "execution_count": 11,
   "metadata": {},
   "outputs": [
    {
     "name": "stdout",
     "output_type": "stream",
     "text": [
      "['F' 'M']\n",
      "['2016-04-29T18:38:08Z' '2016-04-29T16:08:27Z' '2016-04-29T16:19:04Z' ...\n",
      " '2016-04-27T16:03:52Z' '2016-04-27T15:09:23Z' '2016-04-27T13:30:56Z']\n",
      "['2016-04-29T00:00:00Z' '2016-05-03T00:00:00Z' '2016-05-10T00:00:00Z'\n",
      " '2016-05-17T00:00:00Z' '2016-05-24T00:00:00Z' '2016-05-31T00:00:00Z'\n",
      " '2016-05-02T00:00:00Z' '2016-05-30T00:00:00Z' '2016-05-16T00:00:00Z'\n",
      " '2016-05-04T00:00:00Z' '2016-05-19T00:00:00Z' '2016-05-12T00:00:00Z'\n",
      " '2016-05-06T00:00:00Z' '2016-05-20T00:00:00Z' '2016-05-05T00:00:00Z'\n",
      " '2016-05-13T00:00:00Z' '2016-05-09T00:00:00Z' '2016-05-25T00:00:00Z'\n",
      " '2016-05-11T00:00:00Z' '2016-05-18T00:00:00Z' '2016-05-14T00:00:00Z'\n",
      " '2016-06-02T00:00:00Z' '2016-06-03T00:00:00Z' '2016-06-06T00:00:00Z'\n",
      " '2016-06-07T00:00:00Z' '2016-06-01T00:00:00Z' '2016-06-08T00:00:00Z']\n",
      "[ 62  56   8  76  23  39  21  19  30  29  22  28  54  15  50  40  46   4\n",
      "  13  65  45  51  32  12  61  38  79  18  63  64  85  59  55  71  49  78\n",
      "  31  58  27   6   2  11   7   0   3   1  69  68  60  67  36  10  35  20\n",
      "  26  34  33  16  42   5  47  17  41  44  37  24  66  77  81  70  53  75\n",
      "  73  52  74  43  89  57  14   9  48  83  72  25  80  87  88  84  82  90\n",
      "  94  86  91  98  92  96  93  95  97 102 100  99]\n",
      "[0 1]\n",
      "[1 0]\n",
      "[0 1]\n",
      "[0 1]\n",
      "[0 1 2 3 4]\n",
      "[0 1]\n",
      "['No' 'Yes']\n"
     ]
    }
   ],
   "source": [
    "for x in df.columns:\n",
    "    print(df[x].unique())"
   ]
  },
  {
   "cell_type": "markdown",
   "metadata": {},
   "source": [
    "### Data Cleaning"
   ]
  },
  {
   "cell_type": "markdown",
   "metadata": {
    "collapsed": true
   },
   "source": [
    ">This data set is already fairly clean, however I'd like to create an aggregate medical score column to see if people with more than 1 medical condition are more likely to miss appointments. Further, in order to investigate the appointment gap factor I will need to manipulate the time strings provided as well as create and fill another column for the appointment gap."
   ]
  },
  {
   "cell_type": "markdown",
   "metadata": {},
   "source": [
    ">Create series and add to dataframe as a column:"
   ]
  },
  {
   "cell_type": "code",
   "execution_count": 12,
   "metadata": {},
   "outputs": [
    {
     "data": {
      "text/html": [
       "<div>\n",
       "<style scoped>\n",
       "    .dataframe tbody tr th:only-of-type {\n",
       "        vertical-align: middle;\n",
       "    }\n",
       "\n",
       "    .dataframe tbody tr th {\n",
       "        vertical-align: top;\n",
       "    }\n",
       "\n",
       "    .dataframe thead th {\n",
       "        text-align: right;\n",
       "    }\n",
       "</style>\n",
       "<table border=\"1\" class=\"dataframe\">\n",
       "  <thead>\n",
       "    <tr style=\"text-align: right;\">\n",
       "      <th></th>\n",
       "      <th>gender</th>\n",
       "      <th>scheduled_day</th>\n",
       "      <th>appointment_day</th>\n",
       "      <th>age</th>\n",
       "      <th>scholarship</th>\n",
       "      <th>hypertension</th>\n",
       "      <th>diabetes</th>\n",
       "      <th>alcoholism</th>\n",
       "      <th>handicap</th>\n",
       "      <th>sms_received</th>\n",
       "      <th>no_show</th>\n",
       "      <th>appointment_gap</th>\n",
       "      <th>med_score</th>\n",
       "    </tr>\n",
       "  </thead>\n",
       "  <tbody>\n",
       "    <tr>\n",
       "      <th>0</th>\n",
       "      <td>F</td>\n",
       "      <td>2016-04-29T18:38:08Z</td>\n",
       "      <td>2016-04-29T00:00:00Z</td>\n",
       "      <td>62</td>\n",
       "      <td>0</td>\n",
       "      <td>1</td>\n",
       "      <td>0</td>\n",
       "      <td>0</td>\n",
       "      <td>0</td>\n",
       "      <td>0</td>\n",
       "      <td>No</td>\n",
       "      <td>0</td>\n",
       "      <td>0</td>\n",
       "    </tr>\n",
       "    <tr>\n",
       "      <th>1</th>\n",
       "      <td>M</td>\n",
       "      <td>2016-04-29T16:08:27Z</td>\n",
       "      <td>2016-04-29T00:00:00Z</td>\n",
       "      <td>56</td>\n",
       "      <td>0</td>\n",
       "      <td>0</td>\n",
       "      <td>0</td>\n",
       "      <td>0</td>\n",
       "      <td>0</td>\n",
       "      <td>0</td>\n",
       "      <td>No</td>\n",
       "      <td>0</td>\n",
       "      <td>0</td>\n",
       "    </tr>\n",
       "    <tr>\n",
       "      <th>2</th>\n",
       "      <td>F</td>\n",
       "      <td>2016-04-29T16:19:04Z</td>\n",
       "      <td>2016-04-29T00:00:00Z</td>\n",
       "      <td>62</td>\n",
       "      <td>0</td>\n",
       "      <td>0</td>\n",
       "      <td>0</td>\n",
       "      <td>0</td>\n",
       "      <td>0</td>\n",
       "      <td>0</td>\n",
       "      <td>No</td>\n",
       "      <td>0</td>\n",
       "      <td>0</td>\n",
       "    </tr>\n",
       "    <tr>\n",
       "      <th>3</th>\n",
       "      <td>F</td>\n",
       "      <td>2016-04-29T17:29:31Z</td>\n",
       "      <td>2016-04-29T00:00:00Z</td>\n",
       "      <td>8</td>\n",
       "      <td>0</td>\n",
       "      <td>0</td>\n",
       "      <td>0</td>\n",
       "      <td>0</td>\n",
       "      <td>0</td>\n",
       "      <td>0</td>\n",
       "      <td>No</td>\n",
       "      <td>0</td>\n",
       "      <td>0</td>\n",
       "    </tr>\n",
       "    <tr>\n",
       "      <th>4</th>\n",
       "      <td>F</td>\n",
       "      <td>2016-04-29T16:07:23Z</td>\n",
       "      <td>2016-04-29T00:00:00Z</td>\n",
       "      <td>56</td>\n",
       "      <td>0</td>\n",
       "      <td>1</td>\n",
       "      <td>1</td>\n",
       "      <td>0</td>\n",
       "      <td>0</td>\n",
       "      <td>0</td>\n",
       "      <td>No</td>\n",
       "      <td>0</td>\n",
       "      <td>0</td>\n",
       "    </tr>\n",
       "  </tbody>\n",
       "</table>\n",
       "</div>"
      ],
      "text/plain": [
       "  gender         scheduled_day       appointment_day  age  scholarship  \\\n",
       "0      F  2016-04-29T18:38:08Z  2016-04-29T00:00:00Z   62            0   \n",
       "1      M  2016-04-29T16:08:27Z  2016-04-29T00:00:00Z   56            0   \n",
       "2      F  2016-04-29T16:19:04Z  2016-04-29T00:00:00Z   62            0   \n",
       "3      F  2016-04-29T17:29:31Z  2016-04-29T00:00:00Z    8            0   \n",
       "4      F  2016-04-29T16:07:23Z  2016-04-29T00:00:00Z   56            0   \n",
       "\n",
       "   hypertension  diabetes  alcoholism  handicap  sms_received no_show  \\\n",
       "0             1         0           0         0             0      No   \n",
       "1             0         0           0         0             0      No   \n",
       "2             0         0           0         0             0      No   \n",
       "3             0         0           0         0             0      No   \n",
       "4             1         1           0         0             0      No   \n",
       "\n",
       "   appointment_gap  med_score  \n",
       "0                0          0  \n",
       "1                0          0  \n",
       "2                0          0  \n",
       "3                0          0  \n",
       "4                0          0  "
      ]
     },
     "execution_count": 12,
     "metadata": {},
     "output_type": "execute_result"
    }
   ],
   "source": [
    "app_gap = np.repeat(0, df.shape[0])\n",
    "med_score = np.repeat(0, df.shape[0])\n",
    "\n",
    "df['appointment_gap'] = app_gap\n",
    "df['med_score'] = med_score\n",
    "df.head()"
   ]
  },
  {
   "cell_type": "markdown",
   "metadata": {},
   "source": [
    ">Create helper functions to properly fill appointment_gap and med_score columns:"
   ]
  },
  {
   "cell_type": "code",
   "execution_count": 13,
   "metadata": {},
   "outputs": [],
   "source": [
    "#https://stackoverflow.com/a/30566899\n",
    "\n",
    "def get_med_score(row):\n",
    "    count = 0\n",
    "    #access the row's columns and increment med_score, there's probably a more elegant way of doing this\n",
    "    if row['hypertension'] != 0:\n",
    "        count += 1\n",
    "    if row['diabetes'] != 0:\n",
    "        count += 1\n",
    "    if row['alcoholism'] != 0:\n",
    "        count += 1\n",
    "    if row['handicap'] != 0:\n",
    "        count += 1\n",
    "    return count"
   ]
  },
  {
   "cell_type": "code",
   "execution_count": 14,
   "metadata": {},
   "outputs": [],
   "source": [
    "def get_appointment_gap(s_day, a_day):\n",
    "    #convert s_day and a_day to datetime objects\n",
    "    #find difference between the two \n",
    "    #return result as a number of days\n",
    "    t1 = time.strptime(s_day, \"%Y-%m-%dT%H:%M:%SZ\" )\n",
    "    t2 = time.strptime(a_day, \"%Y-%m-%dT%H:%M:%SZ\" ) \n",
    "    gap = (time.mktime(t2) - time.mktime(t1))//(60*60*24)\n",
    "    #had to include this condition in the event that the appointment was booked on the same day in which case the answer would return negative\n",
    "    if gap >= 0:\n",
    "        return int(gap)\n",
    "    else:\n",
    "        return 0"
   ]
  },
  {
   "cell_type": "markdown",
   "metadata": {},
   "source": [
    ">Fill in the columns:"
   ]
  },
  {
   "cell_type": "code",
   "execution_count": 15,
   "metadata": {},
   "outputs": [],
   "source": [
    "df['appointment_gap'] = df.apply(lambda row: get_appointment_gap(row['scheduled_day'], row['appointment_day']), axis=1)\n",
    "df['med_score'] = df.apply(lambda row: get_med_score(row), axis = 1)"
   ]
  },
  {
   "cell_type": "markdown",
   "metadata": {},
   "source": [
    ">Check that the columns are filled appropriately:"
   ]
  },
  {
   "cell_type": "code",
   "execution_count": 16,
   "metadata": {
    "scrolled": true
   },
   "outputs": [
    {
     "data": {
      "text/html": [
       "<div>\n",
       "<style scoped>\n",
       "    .dataframe tbody tr th:only-of-type {\n",
       "        vertical-align: middle;\n",
       "    }\n",
       "\n",
       "    .dataframe tbody tr th {\n",
       "        vertical-align: top;\n",
       "    }\n",
       "\n",
       "    .dataframe thead th {\n",
       "        text-align: right;\n",
       "    }\n",
       "</style>\n",
       "<table border=\"1\" class=\"dataframe\">\n",
       "  <thead>\n",
       "    <tr style=\"text-align: right;\">\n",
       "      <th></th>\n",
       "      <th>gender</th>\n",
       "      <th>scheduled_day</th>\n",
       "      <th>appointment_day</th>\n",
       "      <th>age</th>\n",
       "      <th>scholarship</th>\n",
       "      <th>hypertension</th>\n",
       "      <th>diabetes</th>\n",
       "      <th>alcoholism</th>\n",
       "      <th>handicap</th>\n",
       "      <th>sms_received</th>\n",
       "      <th>no_show</th>\n",
       "      <th>appointment_gap</th>\n",
       "      <th>med_score</th>\n",
       "    </tr>\n",
       "  </thead>\n",
       "  <tbody>\n",
       "    <tr>\n",
       "      <th>60753</th>\n",
       "      <td>M</td>\n",
       "      <td>2016-05-30T16:24:40Z</td>\n",
       "      <td>2016-05-30T00:00:00Z</td>\n",
       "      <td>1</td>\n",
       "      <td>0</td>\n",
       "      <td>0</td>\n",
       "      <td>0</td>\n",
       "      <td>0</td>\n",
       "      <td>0</td>\n",
       "      <td>0</td>\n",
       "      <td>No</td>\n",
       "      <td>0</td>\n",
       "      <td>0</td>\n",
       "    </tr>\n",
       "    <tr>\n",
       "      <th>11817</th>\n",
       "      <td>F</td>\n",
       "      <td>2016-05-17T12:11:19Z</td>\n",
       "      <td>2016-05-17T00:00:00Z</td>\n",
       "      <td>53</td>\n",
       "      <td>0</td>\n",
       "      <td>0</td>\n",
       "      <td>0</td>\n",
       "      <td>0</td>\n",
       "      <td>0</td>\n",
       "      <td>0</td>\n",
       "      <td>No</td>\n",
       "      <td>0</td>\n",
       "      <td>0</td>\n",
       "    </tr>\n",
       "    <tr>\n",
       "      <th>84361</th>\n",
       "      <td>F</td>\n",
       "      <td>2016-05-18T09:29:44Z</td>\n",
       "      <td>2016-06-02T00:00:00Z</td>\n",
       "      <td>31</td>\n",
       "      <td>0</td>\n",
       "      <td>1</td>\n",
       "      <td>0</td>\n",
       "      <td>0</td>\n",
       "      <td>0</td>\n",
       "      <td>1</td>\n",
       "      <td>Yes</td>\n",
       "      <td>14</td>\n",
       "      <td>1</td>\n",
       "    </tr>\n",
       "    <tr>\n",
       "      <th>74444</th>\n",
       "      <td>M</td>\n",
       "      <td>2016-05-02T12:08:52Z</td>\n",
       "      <td>2016-05-03T00:00:00Z</td>\n",
       "      <td>66</td>\n",
       "      <td>0</td>\n",
       "      <td>0</td>\n",
       "      <td>0</td>\n",
       "      <td>0</td>\n",
       "      <td>0</td>\n",
       "      <td>0</td>\n",
       "      <td>No</td>\n",
       "      <td>0</td>\n",
       "      <td>0</td>\n",
       "    </tr>\n",
       "    <tr>\n",
       "      <th>13524</th>\n",
       "      <td>M</td>\n",
       "      <td>2016-05-09T07:08:01Z</td>\n",
       "      <td>2016-05-16T00:00:00Z</td>\n",
       "      <td>21</td>\n",
       "      <td>0</td>\n",
       "      <td>0</td>\n",
       "      <td>0</td>\n",
       "      <td>0</td>\n",
       "      <td>0</td>\n",
       "      <td>0</td>\n",
       "      <td>No</td>\n",
       "      <td>6</td>\n",
       "      <td>0</td>\n",
       "    </tr>\n",
       "    <tr>\n",
       "      <th>104288</th>\n",
       "      <td>F</td>\n",
       "      <td>2016-06-01T07:47:45Z</td>\n",
       "      <td>2016-06-01T00:00:00Z</td>\n",
       "      <td>30</td>\n",
       "      <td>1</td>\n",
       "      <td>0</td>\n",
       "      <td>0</td>\n",
       "      <td>1</td>\n",
       "      <td>0</td>\n",
       "      <td>0</td>\n",
       "      <td>No</td>\n",
       "      <td>0</td>\n",
       "      <td>1</td>\n",
       "    </tr>\n",
       "    <tr>\n",
       "      <th>107151</th>\n",
       "      <td>F</td>\n",
       "      <td>2016-06-02T07:30:13Z</td>\n",
       "      <td>2016-06-02T00:00:00Z</td>\n",
       "      <td>49</td>\n",
       "      <td>0</td>\n",
       "      <td>0</td>\n",
       "      <td>0</td>\n",
       "      <td>0</td>\n",
       "      <td>0</td>\n",
       "      <td>0</td>\n",
       "      <td>No</td>\n",
       "      <td>0</td>\n",
       "      <td>0</td>\n",
       "    </tr>\n",
       "    <tr>\n",
       "      <th>85593</th>\n",
       "      <td>M</td>\n",
       "      <td>2016-05-19T08:04:59Z</td>\n",
       "      <td>2016-06-03T00:00:00Z</td>\n",
       "      <td>45</td>\n",
       "      <td>1</td>\n",
       "      <td>0</td>\n",
       "      <td>0</td>\n",
       "      <td>0</td>\n",
       "      <td>0</td>\n",
       "      <td>1</td>\n",
       "      <td>No</td>\n",
       "      <td>14</td>\n",
       "      <td>0</td>\n",
       "    </tr>\n",
       "    <tr>\n",
       "      <th>45447</th>\n",
       "      <td>M</td>\n",
       "      <td>2016-05-10T10:24:03Z</td>\n",
       "      <td>2016-05-16T00:00:00Z</td>\n",
       "      <td>4</td>\n",
       "      <td>0</td>\n",
       "      <td>0</td>\n",
       "      <td>0</td>\n",
       "      <td>0</td>\n",
       "      <td>0</td>\n",
       "      <td>0</td>\n",
       "      <td>Yes</td>\n",
       "      <td>5</td>\n",
       "      <td>0</td>\n",
       "    </tr>\n",
       "    <tr>\n",
       "      <th>76685</th>\n",
       "      <td>F</td>\n",
       "      <td>2016-05-06T12:36:20Z</td>\n",
       "      <td>2016-05-06T00:00:00Z</td>\n",
       "      <td>22</td>\n",
       "      <td>0</td>\n",
       "      <td>0</td>\n",
       "      <td>0</td>\n",
       "      <td>0</td>\n",
       "      <td>0</td>\n",
       "      <td>0</td>\n",
       "      <td>No</td>\n",
       "      <td>0</td>\n",
       "      <td>0</td>\n",
       "    </tr>\n",
       "  </tbody>\n",
       "</table>\n",
       "</div>"
      ],
      "text/plain": [
       "       gender         scheduled_day       appointment_day  age  scholarship  \\\n",
       "60753       M  2016-05-30T16:24:40Z  2016-05-30T00:00:00Z    1            0   \n",
       "11817       F  2016-05-17T12:11:19Z  2016-05-17T00:00:00Z   53            0   \n",
       "84361       F  2016-05-18T09:29:44Z  2016-06-02T00:00:00Z   31            0   \n",
       "74444       M  2016-05-02T12:08:52Z  2016-05-03T00:00:00Z   66            0   \n",
       "13524       M  2016-05-09T07:08:01Z  2016-05-16T00:00:00Z   21            0   \n",
       "104288      F  2016-06-01T07:47:45Z  2016-06-01T00:00:00Z   30            1   \n",
       "107151      F  2016-06-02T07:30:13Z  2016-06-02T00:00:00Z   49            0   \n",
       "85593       M  2016-05-19T08:04:59Z  2016-06-03T00:00:00Z   45            1   \n",
       "45447       M  2016-05-10T10:24:03Z  2016-05-16T00:00:00Z    4            0   \n",
       "76685       F  2016-05-06T12:36:20Z  2016-05-06T00:00:00Z   22            0   \n",
       "\n",
       "        hypertension  diabetes  alcoholism  handicap  sms_received no_show  \\\n",
       "60753              0         0           0         0             0      No   \n",
       "11817              0         0           0         0             0      No   \n",
       "84361              1         0           0         0             1     Yes   \n",
       "74444              0         0           0         0             0      No   \n",
       "13524              0         0           0         0             0      No   \n",
       "104288             0         0           1         0             0      No   \n",
       "107151             0         0           0         0             0      No   \n",
       "85593              0         0           0         0             1      No   \n",
       "45447              0         0           0         0             0     Yes   \n",
       "76685              0         0           0         0             0      No   \n",
       "\n",
       "        appointment_gap  med_score  \n",
       "60753                 0          0  \n",
       "11817                 0          0  \n",
       "84361                14          1  \n",
       "74444                 0          0  \n",
       "13524                 6          0  \n",
       "104288                0          1  \n",
       "107151                0          0  \n",
       "85593                14          0  \n",
       "45447                 5          0  \n",
       "76685                 0          0  "
      ]
     },
     "execution_count": 16,
     "metadata": {},
     "output_type": "execute_result"
    }
   ],
   "source": [
    "df.sample(10)"
   ]
  },
  {
   "cell_type": "markdown",
   "metadata": {},
   "source": [
    ">Remove now defunct timing columns:"
   ]
  },
  {
   "cell_type": "code",
   "execution_count": 17,
   "metadata": {},
   "outputs": [
    {
     "data": {
      "text/html": [
       "<div>\n",
       "<style scoped>\n",
       "    .dataframe tbody tr th:only-of-type {\n",
       "        vertical-align: middle;\n",
       "    }\n",
       "\n",
       "    .dataframe tbody tr th {\n",
       "        vertical-align: top;\n",
       "    }\n",
       "\n",
       "    .dataframe thead th {\n",
       "        text-align: right;\n",
       "    }\n",
       "</style>\n",
       "<table border=\"1\" class=\"dataframe\">\n",
       "  <thead>\n",
       "    <tr style=\"text-align: right;\">\n",
       "      <th></th>\n",
       "      <th>gender</th>\n",
       "      <th>age</th>\n",
       "      <th>scholarship</th>\n",
       "      <th>hypertension</th>\n",
       "      <th>diabetes</th>\n",
       "      <th>alcoholism</th>\n",
       "      <th>handicap</th>\n",
       "      <th>sms_received</th>\n",
       "      <th>no_show</th>\n",
       "      <th>appointment_gap</th>\n",
       "      <th>med_score</th>\n",
       "    </tr>\n",
       "  </thead>\n",
       "  <tbody>\n",
       "    <tr>\n",
       "      <th>25813</th>\n",
       "      <td>M</td>\n",
       "      <td>7</td>\n",
       "      <td>0</td>\n",
       "      <td>0</td>\n",
       "      <td>0</td>\n",
       "      <td>0</td>\n",
       "      <td>0</td>\n",
       "      <td>1</td>\n",
       "      <td>Yes</td>\n",
       "      <td>13</td>\n",
       "      <td>0</td>\n",
       "    </tr>\n",
       "    <tr>\n",
       "      <th>108747</th>\n",
       "      <td>F</td>\n",
       "      <td>35</td>\n",
       "      <td>1</td>\n",
       "      <td>0</td>\n",
       "      <td>0</td>\n",
       "      <td>1</td>\n",
       "      <td>0</td>\n",
       "      <td>1</td>\n",
       "      <td>Yes</td>\n",
       "      <td>2</td>\n",
       "      <td>1</td>\n",
       "    </tr>\n",
       "    <tr>\n",
       "      <th>33735</th>\n",
       "      <td>M</td>\n",
       "      <td>67</td>\n",
       "      <td>0</td>\n",
       "      <td>0</td>\n",
       "      <td>0</td>\n",
       "      <td>0</td>\n",
       "      <td>0</td>\n",
       "      <td>0</td>\n",
       "      <td>Yes</td>\n",
       "      <td>1</td>\n",
       "      <td>0</td>\n",
       "    </tr>\n",
       "    <tr>\n",
       "      <th>62208</th>\n",
       "      <td>F</td>\n",
       "      <td>78</td>\n",
       "      <td>0</td>\n",
       "      <td>0</td>\n",
       "      <td>0</td>\n",
       "      <td>0</td>\n",
       "      <td>0</td>\n",
       "      <td>0</td>\n",
       "      <td>No</td>\n",
       "      <td>28</td>\n",
       "      <td>0</td>\n",
       "    </tr>\n",
       "    <tr>\n",
       "      <th>73675</th>\n",
       "      <td>F</td>\n",
       "      <td>44</td>\n",
       "      <td>0</td>\n",
       "      <td>0</td>\n",
       "      <td>0</td>\n",
       "      <td>0</td>\n",
       "      <td>0</td>\n",
       "      <td>1</td>\n",
       "      <td>No</td>\n",
       "      <td>8</td>\n",
       "      <td>0</td>\n",
       "    </tr>\n",
       "    <tr>\n",
       "      <th>30749</th>\n",
       "      <td>F</td>\n",
       "      <td>27</td>\n",
       "      <td>0</td>\n",
       "      <td>0</td>\n",
       "      <td>0</td>\n",
       "      <td>0</td>\n",
       "      <td>0</td>\n",
       "      <td>0</td>\n",
       "      <td>No</td>\n",
       "      <td>0</td>\n",
       "      <td>0</td>\n",
       "    </tr>\n",
       "    <tr>\n",
       "      <th>86943</th>\n",
       "      <td>F</td>\n",
       "      <td>30</td>\n",
       "      <td>0</td>\n",
       "      <td>0</td>\n",
       "      <td>0</td>\n",
       "      <td>0</td>\n",
       "      <td>0</td>\n",
       "      <td>1</td>\n",
       "      <td>Yes</td>\n",
       "      <td>13</td>\n",
       "      <td>0</td>\n",
       "    </tr>\n",
       "    <tr>\n",
       "      <th>45250</th>\n",
       "      <td>F</td>\n",
       "      <td>64</td>\n",
       "      <td>0</td>\n",
       "      <td>0</td>\n",
       "      <td>0</td>\n",
       "      <td>0</td>\n",
       "      <td>0</td>\n",
       "      <td>1</td>\n",
       "      <td>Yes</td>\n",
       "      <td>13</td>\n",
       "      <td>0</td>\n",
       "    </tr>\n",
       "    <tr>\n",
       "      <th>34094</th>\n",
       "      <td>M</td>\n",
       "      <td>40</td>\n",
       "      <td>0</td>\n",
       "      <td>1</td>\n",
       "      <td>0</td>\n",
       "      <td>0</td>\n",
       "      <td>0</td>\n",
       "      <td>0</td>\n",
       "      <td>No</td>\n",
       "      <td>16</td>\n",
       "      <td>1</td>\n",
       "    </tr>\n",
       "    <tr>\n",
       "      <th>48813</th>\n",
       "      <td>M</td>\n",
       "      <td>63</td>\n",
       "      <td>0</td>\n",
       "      <td>1</td>\n",
       "      <td>1</td>\n",
       "      <td>0</td>\n",
       "      <td>0</td>\n",
       "      <td>0</td>\n",
       "      <td>No</td>\n",
       "      <td>28</td>\n",
       "      <td>2</td>\n",
       "    </tr>\n",
       "  </tbody>\n",
       "</table>\n",
       "</div>"
      ],
      "text/plain": [
       "       gender  age  scholarship  hypertension  diabetes  alcoholism  handicap  \\\n",
       "25813       M    7            0             0         0           0         0   \n",
       "108747      F   35            1             0         0           1         0   \n",
       "33735       M   67            0             0         0           0         0   \n",
       "62208       F   78            0             0         0           0         0   \n",
       "73675       F   44            0             0         0           0         0   \n",
       "30749       F   27            0             0         0           0         0   \n",
       "86943       F   30            0             0         0           0         0   \n",
       "45250       F   64            0             0         0           0         0   \n",
       "34094       M   40            0             1         0           0         0   \n",
       "48813       M   63            0             1         1           0         0   \n",
       "\n",
       "        sms_received no_show  appointment_gap  med_score  \n",
       "25813              1     Yes               13          0  \n",
       "108747             1     Yes                2          1  \n",
       "33735              0     Yes                1          0  \n",
       "62208              0      No               28          0  \n",
       "73675              1      No                8          0  \n",
       "30749              0      No                0          0  \n",
       "86943              1     Yes               13          0  \n",
       "45250              1     Yes               13          0  \n",
       "34094              0      No               16          1  \n",
       "48813              0      No               28          2  "
      ]
     },
     "execution_count": 17,
     "metadata": {},
     "output_type": "execute_result"
    }
   ],
   "source": [
    "df.drop(['scheduled_day', 'appointment_day'], axis = 1, inplace = True)\n",
    "df.sample(10)"
   ]
  },
  {
   "cell_type": "code",
   "execution_count": 18,
   "metadata": {
    "scrolled": true
   },
   "outputs": [
    {
     "data": {
      "text/html": [
       "<div>\n",
       "<style scoped>\n",
       "    .dataframe tbody tr th:only-of-type {\n",
       "        vertical-align: middle;\n",
       "    }\n",
       "\n",
       "    .dataframe tbody tr th {\n",
       "        vertical-align: top;\n",
       "    }\n",
       "\n",
       "    .dataframe thead th {\n",
       "        text-align: right;\n",
       "    }\n",
       "</style>\n",
       "<table border=\"1\" class=\"dataframe\">\n",
       "  <thead>\n",
       "    <tr style=\"text-align: right;\">\n",
       "      <th></th>\n",
       "      <th>gender</th>\n",
       "      <th>age</th>\n",
       "      <th>scholarship</th>\n",
       "      <th>hypertension</th>\n",
       "      <th>diabetes</th>\n",
       "      <th>alcoholism</th>\n",
       "      <th>handicap</th>\n",
       "      <th>sms_received</th>\n",
       "      <th>no_show</th>\n",
       "      <th>appointment_gap</th>\n",
       "      <th>med_score</th>\n",
       "    </tr>\n",
       "  </thead>\n",
       "  <tbody>\n",
       "    <tr>\n",
       "      <th>22130</th>\n",
       "      <td>F</td>\n",
       "      <td>24</td>\n",
       "      <td>0</td>\n",
       "      <td>0</td>\n",
       "      <td>0</td>\n",
       "      <td>0</td>\n",
       "      <td>0</td>\n",
       "      <td>0</td>\n",
       "      <td>Yes</td>\n",
       "      <td>6</td>\n",
       "      <td>0</td>\n",
       "    </tr>\n",
       "    <tr>\n",
       "      <th>12996</th>\n",
       "      <td>F</td>\n",
       "      <td>32</td>\n",
       "      <td>0</td>\n",
       "      <td>0</td>\n",
       "      <td>0</td>\n",
       "      <td>0</td>\n",
       "      <td>0</td>\n",
       "      <td>1</td>\n",
       "      <td>No</td>\n",
       "      <td>36</td>\n",
       "      <td>0</td>\n",
       "    </tr>\n",
       "    <tr>\n",
       "      <th>64142</th>\n",
       "      <td>F</td>\n",
       "      <td>56</td>\n",
       "      <td>0</td>\n",
       "      <td>0</td>\n",
       "      <td>0</td>\n",
       "      <td>0</td>\n",
       "      <td>0</td>\n",
       "      <td>0</td>\n",
       "      <td>Yes</td>\n",
       "      <td>6</td>\n",
       "      <td>0</td>\n",
       "    </tr>\n",
       "    <tr>\n",
       "      <th>22059</th>\n",
       "      <td>F</td>\n",
       "      <td>84</td>\n",
       "      <td>0</td>\n",
       "      <td>0</td>\n",
       "      <td>0</td>\n",
       "      <td>0</td>\n",
       "      <td>0</td>\n",
       "      <td>0</td>\n",
       "      <td>No</td>\n",
       "      <td>0</td>\n",
       "      <td>0</td>\n",
       "    </tr>\n",
       "    <tr>\n",
       "      <th>6239</th>\n",
       "      <td>F</td>\n",
       "      <td>47</td>\n",
       "      <td>0</td>\n",
       "      <td>1</td>\n",
       "      <td>1</td>\n",
       "      <td>0</td>\n",
       "      <td>0</td>\n",
       "      <td>1</td>\n",
       "      <td>No</td>\n",
       "      <td>5</td>\n",
       "      <td>2</td>\n",
       "    </tr>\n",
       "    <tr>\n",
       "      <th>44565</th>\n",
       "      <td>F</td>\n",
       "      <td>17</td>\n",
       "      <td>1</td>\n",
       "      <td>0</td>\n",
       "      <td>0</td>\n",
       "      <td>0</td>\n",
       "      <td>0</td>\n",
       "      <td>1</td>\n",
       "      <td>Yes</td>\n",
       "      <td>4</td>\n",
       "      <td>0</td>\n",
       "    </tr>\n",
       "    <tr>\n",
       "      <th>28906</th>\n",
       "      <td>F</td>\n",
       "      <td>66</td>\n",
       "      <td>0</td>\n",
       "      <td>1</td>\n",
       "      <td>0</td>\n",
       "      <td>0</td>\n",
       "      <td>0</td>\n",
       "      <td>1</td>\n",
       "      <td>No</td>\n",
       "      <td>15</td>\n",
       "      <td>1</td>\n",
       "    </tr>\n",
       "    <tr>\n",
       "      <th>11179</th>\n",
       "      <td>M</td>\n",
       "      <td>61</td>\n",
       "      <td>0</td>\n",
       "      <td>0</td>\n",
       "      <td>0</td>\n",
       "      <td>0</td>\n",
       "      <td>0</td>\n",
       "      <td>1</td>\n",
       "      <td>Yes</td>\n",
       "      <td>41</td>\n",
       "      <td>0</td>\n",
       "    </tr>\n",
       "    <tr>\n",
       "      <th>51724</th>\n",
       "      <td>F</td>\n",
       "      <td>37</td>\n",
       "      <td>0</td>\n",
       "      <td>0</td>\n",
       "      <td>0</td>\n",
       "      <td>0</td>\n",
       "      <td>0</td>\n",
       "      <td>0</td>\n",
       "      <td>No</td>\n",
       "      <td>21</td>\n",
       "      <td>0</td>\n",
       "    </tr>\n",
       "    <tr>\n",
       "      <th>93136</th>\n",
       "      <td>M</td>\n",
       "      <td>11</td>\n",
       "      <td>0</td>\n",
       "      <td>0</td>\n",
       "      <td>0</td>\n",
       "      <td>0</td>\n",
       "      <td>0</td>\n",
       "      <td>0</td>\n",
       "      <td>No</td>\n",
       "      <td>24</td>\n",
       "      <td>0</td>\n",
       "    </tr>\n",
       "  </tbody>\n",
       "</table>\n",
       "</div>"
      ],
      "text/plain": [
       "      gender  age  scholarship  hypertension  diabetes  alcoholism  handicap  \\\n",
       "22130      F   24            0             0         0           0         0   \n",
       "12996      F   32            0             0         0           0         0   \n",
       "64142      F   56            0             0         0           0         0   \n",
       "22059      F   84            0             0         0           0         0   \n",
       "6239       F   47            0             1         1           0         0   \n",
       "44565      F   17            1             0         0           0         0   \n",
       "28906      F   66            0             1         0           0         0   \n",
       "11179      M   61            0             0         0           0         0   \n",
       "51724      F   37            0             0         0           0         0   \n",
       "93136      M   11            0             0         0           0         0   \n",
       "\n",
       "       sms_received no_show  appointment_gap  med_score  \n",
       "22130             0     Yes                6          0  \n",
       "12996             1      No               36          0  \n",
       "64142             0     Yes                6          0  \n",
       "22059             0      No                0          0  \n",
       "6239              1      No                5          2  \n",
       "44565             1     Yes                4          0  \n",
       "28906             1      No               15          1  \n",
       "11179             1     Yes               41          0  \n",
       "51724             0      No               21          0  \n",
       "93136             0      No               24          0  "
      ]
     },
     "execution_count": 18,
     "metadata": {},
     "output_type": "execute_result"
    }
   ],
   "source": [
    "df.sample(10)"
   ]
  },
  {
   "cell_type": "markdown",
   "metadata": {},
   "source": [
    ">Looks good! Now we are ready to explore the data."
   ]
  },
  {
   "cell_type": "markdown",
   "metadata": {},
   "source": [
    "<a id='eda'></a>\n",
    "## Exploratory Data Analysis"
   ]
  },
  {
   "cell_type": "markdown",
   "metadata": {},
   "source": [
    ">Begin with looking at histograms for all the variables to get a feel for the data."
   ]
  },
  {
   "cell_type": "code",
   "execution_count": 19,
   "metadata": {
    "scrolled": false
   },
   "outputs": [
    {
     "data": {
      "image/png": "[encoded data removed]",
      "text/plain": [
       "<matplotlib.figure.Figure at 0x1dbbfbc3be0>"
      ]
     },
     "metadata": {},
     "output_type": "display_data"
    }
   ],
   "source": [
    "df.hist(figsize = (8,8));"
   ]
  },
  {
   "cell_type": "code",
   "execution_count": 20,
   "metadata": {},
   "outputs": [
    {
     "data": {
      "image/png": "[encoded data removed]",
      "text/plain": [
       "<matplotlib.figure.Figure at 0x1dbc24ab710>"
      ]
     },
     "metadata": {},
     "output_type": "display_data"
    }
   ],
   "source": [
    "df['age'].hist();"
   ]
  },
  {
   "cell_type": "code",
   "execution_count": 21,
   "metadata": {},
   "outputs": [
    {
     "data": {
      "image/png": "[encoded data removed]",
      "text/plain": [
       "<matplotlib.figure.Figure at 0x1dbc224c780>"
      ]
     },
     "metadata": {},
     "output_type": "display_data"
    }
   ],
   "source": [
    "df['appointment_gap'].hist();"
   ]
  },
  {
   "cell_type": "markdown",
   "metadata": {},
   "source": [
    ">Looks like the vast majority of appointment gaps are 15 days or under."
   ]
  },
  {
   "cell_type": "code",
   "execution_count": 22,
   "metadata": {},
   "outputs": [
    {
     "data": {
      "image/png": "[encoded data removed]",
      "text/plain": [
       "<matplotlib.figure.Figure at 0x1dbc22966a0>"
      ]
     },
     "metadata": {},
     "output_type": "display_data"
    }
   ],
   "source": [
    "df['gender'].hist();"
   ]
  },
  {
   "cell_type": "markdown",
   "metadata": {},
   "source": [
    ">Looks like there are almost twice as many female appointments as male appointments."
   ]
  },
  {
   "cell_type": "markdown",
   "metadata": {},
   "source": [
    "### Effect of medical factors on probability of missing appointments"
   ]
  },
  {
   "cell_type": "markdown",
   "metadata": {},
   "source": [
    ">Next I would like to look at the percentage of missed appointments for each unique value for each variable. I will need to create another helper function in order to do this. The function needs to accept a column label and data frame, and create a new data frame with rows for each unique value for that column label and the probability of missing an appointment for that unique value. I will be able to use this function for all of the columns I intend to analyze."
   ]
  },
  {
   "cell_type": "code",
   "execution_count": 23,
   "metadata": {},
   "outputs": [],
   "source": [
    "#https://stackoverflow.com/a/24913075\n",
    "\n",
    "def prob_values(query, data):\n",
    "    #create new data frame with appropriate columns\n",
    "    out = pd.DataFrame(columns = [query,'probability'])\n",
    "    \n",
    "    #pull every unique value from the query argument\n",
    "    values = data[query].unique().tolist()\n",
    "    \n",
    "    #sort the list for cleanliness\n",
    "    values.sort()\n",
    "    \n",
    "    #calculate probabilities for every unique value\n",
    "    for x in range(len(values)):\n",
    "        \n",
    "        #divide the total number of missed appointments that fit the unique value for this column,\n",
    "        #by the total number of appointments for the unique value for this column\n",
    "        prob = len(data.query('{} == \"{}\" & no_show == \"Yes\"'.format(query, values[x])))/len(data.query('{} == \"{}\"'.format(query, values[x])))\n",
    "        \n",
    "        #add the result to the output dataframe\n",
    "        out.loc[x] = [values[x], prob]\n",
    "        \n",
    "    return out"
   ]
  },
  {
   "cell_type": "markdown",
   "metadata": {},
   "source": [
    ">Now let's look at the probabilities for gender, each medical condition, and medical score. 1 means patients with the condition and 0 means without. It is unclear from the original source what the 0-4 handicap status means but I will assume that they are different levels of impairment for the patient."
   ]
  },
  {
   "cell_type": "code",
   "execution_count": 31,
   "metadata": {},
   "outputs": [
    {
     "data": {
      "image/png": "[encoded data removed]",
      "text/plain": [
       "<matplotlib.figure.Figure at 0x1dbc2264b70>"
      ]
     },
     "metadata": {},
     "output_type": "display_data"
    }
   ],
   "source": [
    "df_gender = prob_values('gender',df)\n",
    "df_gender.plot(kind = 'bar', x = 'gender', y = 'probability', title = 'Percentage of Missed Appointments vs. Gender');"
   ]
  },
  {
   "cell_type": "code",
   "execution_count": 25,
   "metadata": {},
   "outputs": [
    {
     "data": {
      "image/png": "[encoded data removed]",
      "text/plain": [
       "<matplotlib.figure.Figure at 0x1dbc2583160>"
      ]
     },
     "metadata": {},
     "output_type": "display_data"
    },
    {
     "data": {
      "image/png": "[encoded data removed]",
      "text/plain": [
       "<matplotlib.figure.Figure at 0x1dbc2583da0>"
      ]
     },
     "metadata": {},
     "output_type": "display_data"
    },
    {
     "data": {
      "image/png": "[encoded data removed]",
      "text/plain": [
       "<matplotlib.figure.Figure at 0x1dbc24f87b8>"
      ]
     },
     "metadata": {},
     "output_type": "display_data"
    },
    {
     "data": {
      "image/png": "[encoded data removed]",
      "text/plain": [
       "<matplotlib.figure.Figure at 0x1dbc25a2f28>"
      ]
     },
     "metadata": {},
     "output_type": "display_data"
    }
   ],
   "source": [
    "df_diabetes = prob_values('diabetes',df)\n",
    "df_diabetes.plot(kind = 'bar', x = 'diabetes', y = 'probability', title = 'Percentage of Missed Appointments vs. Diabetes Status');\n",
    "\n",
    "df_alcoholism = prob_values('alcoholism',df)\n",
    "df_alcoholism.plot(kind = 'bar', x = 'alcoholism', y = 'probability', title = 'Percentage of Missed Appointments vs. Alcoholism Status');\n",
    "\n",
    "df_handicap = prob_values('handicap',df)\n",
    "df_handicap.plot(kind = 'bar', x = 'handicap', y = 'probability', title = 'Percentage of Missed Appointments vs. Handicap Status');\n",
    "\n",
    "df_hypertension = prob_values('hypertension',df)\n",
    "df_hypertension.plot(kind = 'bar', x = 'hypertension', y = 'probability', title = 'Percentage of Missed Appointment vs. Hypertension Status');"
   ]
  },
  {
   "cell_type": "markdown",
   "metadata": {},
   "source": [
    ">We can see from the graphs that there is very little correlation between gender, diabetic status, or alcoholic status and the percentage of missed appointments. However, there appears to be a relatively strong correlation between a higher handicap status and no-show likelihood. The patients with handicap status 4 missed 20% more appointments than those with handicap status 1. Additionally, patients with hypertension were slightly more likely to show up for appointments than those without. It's important to note that the vast majority of patients do not have any of these medical conditions as evidenced by the histograms above."
   ]
  },
  {
   "cell_type": "markdown",
   "metadata": {},
   "source": [
    ">Let's now look at the medical score and see if it tells us anything useful about no-show probability."
   ]
  },
  {
   "cell_type": "code",
   "execution_count": 26,
   "metadata": {},
   "outputs": [
    {
     "data": {
      "image/png": "[encoded data removed]",
      "text/plain": [
       "<matplotlib.figure.Figure at 0x1dbc26754e0>"
      ]
     },
     "metadata": {},
     "output_type": "display_data"
    }
   ],
   "source": [
    "df_med_score = prob_values('med_score',df)\n",
    "df_med_score.plot(kind = 'bar', x = 'med_score', y = 'probability', title = 'Percentage of Missed Appointments vs. Diabetes Status');"
   ]
  },
  {
   "cell_type": "markdown",
   "metadata": {},
   "source": [
    ">This plot indicates a slight decrease in no-show probability for higher med_scores except for med_scores of 4. Although, this analysis is quite superficial and is merely inquisitory it would be interesting to do an analysis on combinations of medical conditions, perhaps on a larger sample size."
   ]
  },
  {
   "cell_type": "markdown",
   "metadata": {},
   "source": [
    "### Effect of age, appointment gap, scholarship, and sms_reminder on probability of missing appointments"
   ]
  },
  {
   "cell_type": "code",
   "execution_count": 27,
   "metadata": {},
   "outputs": [
    {
     "data": {
      "image/png": "[encoded data removed]",
      "text/plain": [
       "<matplotlib.figure.Figure at 0x1dbc26759e8>"
      ]
     },
     "metadata": {},
     "output_type": "display_data"
    }
   ],
   "source": [
    "df_age = prob_values('age',df)\n",
    "df_age.plot(kind = 'scatter', x = 'age', y = 'probability', figsize = (15,10), title = 'Percentage of Missed Appointments vs. Age');"
   ]
  },
  {
   "cell_type": "markdown",
   "metadata": {},
   "source": [
    ">Now this graph is promising, it shows a definite trend of a decrease in no-show probability as the patient age increases. "
   ]
  },
  {
   "cell_type": "code",
   "execution_count": 28,
   "metadata": {},
   "outputs": [
    {
     "data": {
      "image/png": "[encoded data removed]",
      "text/plain": [
       "<matplotlib.figure.Figure at 0x1dbc2571a20>"
      ]
     },
     "metadata": {},
     "output_type": "display_data"
    }
   ],
   "source": [
    "df_app_gap = prob_values('appointment_gap',df)\n",
    "df_app_gap.plot(kind = 'scatter', x = 'appointment_gap', y = 'probability', title = 'Percentage of Missed Appointments vs. Appointment Gap', figsize = (10,10));"
   ]
  },
  {
   "cell_type": "markdown",
   "metadata": {},
   "source": [
    ">This correlation is not nearly as strong as the correlation with age. It would appear that the appointment gap is not a strong indicator of no-show probability."
   ]
  },
  {
   "cell_type": "code",
   "execution_count": 29,
   "metadata": {},
   "outputs": [
    {
     "data": {
      "image/png": "[encoded data removed]",
      "text/plain": [
       "<matplotlib.figure.Figure at 0x1dbc25b3898>"
      ]
     },
     "metadata": {},
     "output_type": "display_data"
    }
   ],
   "source": [
    "df_scholarship = prob_values('scholarship',df)\n",
    "df_scholarship.plot(kind = 'bar', x = 'scholarship', y = 'probability', figsize = (8,8), title = 'Percentage of Missed Appointments vs. Welfare Status');"
   ]
  },
  {
   "cell_type": "markdown",
   "metadata": {},
   "source": [
    ">~5% more patients on welfare no-showed for their appointments than those without."
   ]
  },
  {
   "cell_type": "code",
   "execution_count": 30,
   "metadata": {},
   "outputs": [
    {
     "data": {
      "image/png": "[encoded data removed]",
      "text/plain": [
       "<matplotlib.figure.Figure at 0x1dbc2348cf8>"
      ]
     },
     "metadata": {},
     "output_type": "display_data"
    }
   ],
   "source": [
    "df_sms = prob_values('sms_received',df)\n",
    "df_sms.plot(kind = 'bar', x = 'sms_received', y = 'probability', title = 'Percentage of Missed Appointments vs. Text Message Reminder');"
   ]
  },
  {
   "cell_type": "markdown",
   "metadata": {},
   "source": [
    ">Now this is interesting! This shows that over 10% more patients that received a text message reminder showed up for their appointment than those that didn't, regardless of any other factor. Maybe the hospitals should look into sending multiple reminders and stressing the effectiveness of text messages as insurance for their appointments."
   ]
  },
  {
   "cell_type": "markdown",
   "metadata": {},
   "source": [
    "<a id='conclusions'></a>\n",
    "## Conclusions\n"
   ]
  },
  {
   "cell_type": "markdown",
   "metadata": {},
   "source": [
    ">What I've shown in this report are some observations between age, handicap status, and text message reminders and the likelihood of showing up for an appointment. It is important to note that more in-depth analysis and a larger, more varied, and more detailed sample would be necessary to conclusively state no-show probability. This is merely an exploratory data analysis, and, while interesting, does not conclusively show anything about a patient's likelihood to show up for an appointment. "
   ]
  }
 ],
 "metadata": {
  "kernelspec": {
   "display_name": "Python 3",
   "language": "python",
   "name": "python3"
  },
  "language_info": {
   "codemirror_mode": {
    "name": "ipython",
    "version": 3
   },
   "file_extension": ".py",
   "mimetype": "text/x-python",
   "name": "python",
   "nbconvert_exporter": "python",
   "pygments_lexer": "ipython3",
   "version": "3.6.4"
  }
 },
 "nbformat": 4,
 "nbformat_minor": 2
}
